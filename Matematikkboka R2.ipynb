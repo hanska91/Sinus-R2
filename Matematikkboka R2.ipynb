{
 "cells": [
  {
   "cell_type": "markdown",
   "id": "513aa564-71ba-4a19-bf05-ecff1bd1bf63",
   "metadata": {},
   "source": [
    "# $\\color{black}{\\text{Kapittel 1 - Følger og rekker}}$"
   ]
  },
  {
   "cell_type": "code",
   "execution_count": null,
   "id": "9bf3d43b-360c-4bd6-a1cb-7662eb7ceab5",
   "metadata": {},
   "outputs": [],
   "source": []
  },
  {
   "cell_type": "code",
   "execution_count": null,
   "id": "9eabffc9-3d81-4d9d-afd4-cdbdfa093ee2",
   "metadata": {},
   "outputs": [],
   "source": []
  },
  {
   "cell_type": "markdown",
   "id": "8e5738e9-a603-4de3-bf7c-d24304925f5b",
   "metadata": {},
   "source": [
    "# $\\color{red}{\\text{Kapittel 2 - Integralregning}}$"
   ]
  },
  {
   "cell_type": "code",
   "execution_count": null,
   "id": "8fe8ff84-0e88-4b31-9ac4-7e2f4af0f285",
   "metadata": {},
   "outputs": [],
   "source": []
  },
  {
   "cell_type": "code",
   "execution_count": null,
   "id": "8d3de17b-3dd2-4336-9c01-b9e8cd7c9302",
   "metadata": {},
   "outputs": [],
   "source": []
  },
  {
   "cell_type": "markdown",
   "id": "4e144188-0b1d-401d-ac08-f6843138a10b",
   "metadata": {},
   "source": [
    "# $\\color{green}{\\text{Kapittel 3 - Integrasjonsmetoder}}$"
   ]
  },
  {
   "cell_type": "code",
   "execution_count": null,
   "id": "1ec4708f-add1-4d49-8a33-bca255c925a1",
   "metadata": {},
   "outputs": [],
   "source": []
  },
  {
   "cell_type": "code",
   "execution_count": null,
   "id": "1a000119-639e-4518-a0bf-a197122f1290",
   "metadata": {},
   "outputs": [],
   "source": []
  },
  {
   "cell_type": "markdown",
   "id": "fcaebd6a-ccae-4e82-9cc4-6871646468cf",
   "metadata": {},
   "source": [
    "# $\\color{blue}{\\text{Kapittel 4 - Vektorer}}$"
   ]
  },
  {
   "cell_type": "code",
   "execution_count": null,
   "id": "dbf6d452-5bd2-4d27-8b67-0fabb30c46a2",
   "metadata": {},
   "outputs": [],
   "source": []
  },
  {
   "cell_type": "code",
   "execution_count": null,
   "id": "15e2fcd2-b282-4c1d-b3f8-24f52a3bbc22",
   "metadata": {},
   "outputs": [],
   "source": []
  },
  {
   "cell_type": "markdown",
   "id": "4a8c7473-7225-4dd7-bce8-8f28875dfafe",
   "metadata": {},
   "source": [
    "# $\\color{lightblue}{\\text{Kapittel 5 - Trigonometri}}$"
   ]
  },
  {
   "cell_type": "code",
   "execution_count": null,
   "id": "6df9ab56-5943-48e6-a3eb-51b7eb9640b0",
   "metadata": {},
   "outputs": [],
   "source": []
  },
  {
   "cell_type": "code",
   "execution_count": null,
   "id": "2a0e0733-c7d8-43de-bf0d-041f2aeabe52",
   "metadata": {},
   "outputs": [],
   "source": []
  },
  {
   "cell_type": "markdown",
   "id": "51c975ff-91d6-466a-a231-0f72ad2090fc",
   "metadata": {},
   "source": [
    "# $\\color{coral}{\\text{Kapittel 6 - Funksjoner og kurver}}$"
   ]
  },
  {
   "cell_type": "code",
   "execution_count": null,
   "id": "828b3509-c563-41f7-93de-00b3510985be",
   "metadata": {},
   "outputs": [],
   "source": []
  },
  {
   "cell_type": "code",
   "execution_count": null,
   "id": "728f97a4-1e7b-441a-b23e-7be3156c4932",
   "metadata": {},
   "outputs": [],
   "source": []
  }
 ],
 "metadata": {
  "kernelspec": {
   "display_name": "Python 3",
   "language": "python",
   "name": "python3"
  },
  "language_info": {
   "codemirror_mode": {
    "name": "ipython",
    "version": 3
   },
   "file_extension": ".py",
   "mimetype": "text/x-python",
   "name": "python",
   "nbconvert_exporter": "python",
   "pygments_lexer": "ipython3",
   "version": "3.13.5"
  }
 },
 "nbformat": 4,
 "nbformat_minor": 5
}
